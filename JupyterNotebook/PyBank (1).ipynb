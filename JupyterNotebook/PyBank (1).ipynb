{
 "cells": [
  {
   "cell_type": "code",
   "execution_count": 1,
   "metadata": {
    "id": "bZqZkOqMfDpe"
   },
   "outputs": [],
   "source": [
    "#initial imports\n",
    "import pandas as pd\n",
    "import numpy as np"
   ]
  },
  {
   "cell_type": "code",
   "execution_count": 2,
   "metadata": {
    "id": "6Re_0wdIfLv1"
   },
   "outputs": [],
   "source": [
    "#Read the csv file to the dataframe\n",
    "df = pd.read_csv(\"budget_data.csv\")\n"
   ]
  },
  {
   "cell_type": "code",
   "execution_count": 3,
   "metadata": {
    "id": "_W71Fs2CfWJZ"
   },
   "outputs": [],
   "source": [
    "# Total amount of months in dataset\n",
    "num_months = len(df.index) "
   ]
  },
  {
   "cell_type": "code",
   "execution_count": 4,
   "metadata": {
    "id": "FTy5FhVqfdup"
   },
   "outputs": [],
   "source": [
    "# Total amount of Profit/Losses over the entire period\n",
    "total = 0\n",
    "# Loop through each row in provided dataset\n",
    "for x in range (0,num_months): \n",
    "  # Retrieve profit/loss value of each row and add it to the total\n",
    "    total = total + df.iat[x,1]"
   ]
  },
  {
   "cell_type": "code",
   "execution_count": 5,
   "metadata": {
    "id": "tjrJ4UB7fuSp"
   },
   "outputs": [],
   "source": [
    "# The average of the changes in Profit/Losses over the entire period & Greatest Increase/Decrease in profits\n",
    "total_average = 0\n",
    "increase_max = 0\n",
    "increase_max_month = \"\"\n",
    "decrease_max = 0\n",
    "decrease_max_month = \"\"\n",
    "# Loop through each row in provided dataset, excluding last row\n",
    "for i in range (0,(num_months-1)): \n",
    "    num1 = df.iat[i,1]\n",
    "    num2 = df.iat[(i+1),1]\n",
    "    # Calculate the change of value through the two compared months\n",
    "    change = num2 - num1 \n",
    "    total_average = total_average + change \n",
    "    # Determine which month had the greatest increase in profits\n",
    "    if change > increase_max: \n",
    "        increase_max = change\n",
    "        increase_max_month = df.iat[(i+1),0]\n",
    "     # Determine which month had the greatest decrease in profits    \n",
    "    if change < decrease_max: \n",
    "        decrease_max = change\n",
    "        decrease_max_month = df.iat[(i+1),0]  \n",
    "# Calculate the total average change of profits/losses over provided period        \n",
    "avg_change_result = total_average/(num_months-1) \n",
    "avg_change_result = round(avg_change_result,2)"
   ]
  },
  {
   "cell_type": "code",
   "execution_count": 6,
   "metadata": {
    "colab": {
     "base_uri": "https://localhost:8080/"
    },
    "id": "nzmx5pwMggo4",
    "outputId": "76011ebc-fcff-4045-c489-869ae2bb0432"
   },
   "outputs": [
    {
     "name": "stdout",
     "output_type": "stream",
     "text": [
      "Financial Analysis\n",
      "----------------------------\n",
      "Total Months: 86\n",
      "Total: $38382578\n",
      "Average Change: $-2315.12\n",
      "Greatest Increase in Profits: Feb-2012 ($1926159)\n",
      "Greatest Decrease in Profits: Sep-2013 ($-2196167)\n"
     ]
    }
   ],
   "source": [
    "print(f\"Financial Analysis\\n----------------------------\\nTotal Months: {num_months}\\nTotal: ${total}\\nAverage Change: ${avg_change_result}\\nGreatest Increase in Profits: {increase_max_month} (${increase_max})\\nGreatest Decrease in Profits: {decrease_max_month} (${decrease_max})\")\n"
   ]
  },
  {
   "cell_type": "code",
   "execution_count": 7,
   "metadata": {
    "id": "Kz01VF2zglP-"
   },
   "outputs": [],
   "source": [
    "with open('finalscript.txt', 'w') as f: \n",
    "  # Create text file in script directory and writes the results\n",
    "    f.write(f\"Financial Analysis\\n----------------------------\\nTotal Months: {num_months}\\nTotal: ${total}\\nAverage Change: ${avg_change_result}\\nGreatest Increase in Profits: {increase_max_month} (${increase_max})\\nGreatest Decrease in Profits: {decrease_max_month} (${decrease_max})\")\n"
   ]
  },
  {
   "cell_type": "code",
   "execution_count": null,
   "metadata": {
    "id": "RsPcBIotgzSS"
   },
   "outputs": [],
   "source": []
  }
 ],
 "metadata": {
  "colab": {
   "collapsed_sections": [],
   "name": "PyBank.ipynb",
   "provenance": []
  },
  "kernelspec": {
   "display_name": "Python 3 (ipykernel)",
   "language": "python",
   "name": "python3"
  },
  "language_info": {
   "codemirror_mode": {
    "name": "ipython",
    "version": 3
   },
   "file_extension": ".py",
   "mimetype": "text/x-python",
   "name": "python",
   "nbconvert_exporter": "python",
   "pygments_lexer": "ipython3",
   "version": "3.7.7"
  }
 },
 "nbformat": 4,
 "nbformat_minor": 4
}
